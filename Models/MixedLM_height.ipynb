{
  "nbformat": 4,
  "nbformat_minor": 0,
  "metadata": {
    "colab": {
      "provenance": []
    },
    "kernelspec": {
      "name": "python3",
      "display_name": "Python 3"
    },
    "language_info": {
      "name": "python"
    }
  },
  "cells": [
    {
      "cell_type": "code",
      "source": [
        "import pandas as pd\n",
        "import statsmodels.api as sm\n",
        "from statsmodels.formula.api import mixedlm"
      ],
      "metadata": {
        "id": "dYjl726Zk3KT"
      },
      "execution_count": 1,
      "outputs": []
    },
    {
      "cell_type": "markdown",
      "source": [
        "# **Data Format**"
      ],
      "metadata": {
        "id": "zbSidwg8mJxv"
      }
    },
    {
      "cell_type": "code",
      "execution_count": 7,
      "metadata": {
        "id": "gu4loWd8kYV7"
      },
      "outputs": [],
      "source": [
        "height_data = {\n",
        "    \"Plant\": [\"Plant \" + str(i) for i in range(1, 10) for _ in range(6)],\n",
        "    \"Treatment\": (\n",
        "        [\"Control\"] * 18 +                # First 3 plants are Control\n",
        "        [\"Treatment Two\"] * 18 +          # Next 3 plants are Treatment Two\n",
        "        [\"Treatment One\"] * 18            # Last 3 plants are Treatment One\n",
        "    ),\n",
        "    \"Week\": [1, 2, 3, 4, 5, 6] * 9,       # Repeating 6 weeks for each plant\n",
        "    \"Height\": [\n",
        "        8, 12, 20, 24, 27.5, 29,\n",
        "        8.5, 11.3, 18, 20, 23.5, 26,\n",
        "        7, 8.4, 12.7, 17, 18, 19.5,\n",
        "        6, 9, 19, 25.5, 28, 26,\n",
        "        7, 9.5, 10, 6.5, 8, 11.5,\n",
        "        6.5, 10, 17, 18, 17, 17.5,\n",
        "        6.5, 12, 26, 32, 35, 37,\n",
        "        8, 10, 15, 18, 17, 17,\n",
        "        7, 10.8, 19.5, 24.5, 23, 24\n",
        "    ]\n",
        "}\n",
        "\n",
        "df = pd.DataFrame(height_data)"
      ]
    },
    {
      "cell_type": "markdown",
      "source": [
        "# **Model**"
      ],
      "metadata": {
        "id": "dHWtPkLXmMqt"
      }
    },
    {
      "cell_type": "code",
      "source": [
        "model = mixedlm(\"Height ~ Treatment + Week\", df, groups=\"Plant\") # model and fitting\n",
        "result = model.fit()\n",
        "\n",
        "\n",
        "print(result.summary())"
      ],
      "metadata": {
        "colab": {
          "base_uri": "https://localhost:8080/"
        },
        "id": "cstgOJ7KlMze",
        "outputId": "5797c8a3-a41f-441b-8d4a-1618fb0dc574"
      },
      "execution_count": 8,
      "outputs": [
        {
          "output_type": "stream",
          "name": "stdout",
          "text": [
            "                Mixed Linear Model Regression Results\n",
            "======================================================================\n",
            "Model:                 MixedLM      Dependent Variable:      Height   \n",
            "No. Observations:      54           Method:                  REML     \n",
            "No. Groups:            9            Scale:                   16.1622  \n",
            "Min. group size:       6            Log-Likelihood:          -153.6240\n",
            "Max. group size:       6            Converged:               Yes      \n",
            "Mean group size:       6.0                                            \n",
            "----------------------------------------------------------------------\n",
            "                           Coef.  Std.Err.   z    P>|z|  [0.025 0.975]\n",
            "----------------------------------------------------------------------\n",
            "Intercept                   5.519    2.908  1.898 0.058  -0.181 11.218\n",
            "Treatment[T.Treatment One]  1.772    3.794  0.467 0.640  -5.665  9.209\n",
            "Treatment[T.Treatment Two] -3.244    3.794 -0.855 0.393 -10.681  4.193\n",
            "Week                        3.350    0.320 10.458 0.000   2.722  3.978\n",
            "Plant Var                  18.903    3.306                            \n",
            "======================================================================\n",
            "\n"
          ]
        }
      ]
    }
  ]
}
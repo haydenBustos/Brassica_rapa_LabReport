{
  "nbformat": 4,
  "nbformat_minor": 0,
  "metadata": {
    "colab": {
      "provenance": []
    },
    "kernelspec": {
      "name": "python3",
      "display_name": "Python 3"
    },
    "language_info": {
      "name": "python"
    }
  },
  "cells": [
    {
      "cell_type": "code",
      "source": [
        "import pandas as pd\n",
        "import statsmodels.api as sm\n",
        "from statsmodels.formula.api import mixedlm"
      ],
      "metadata": {
        "id": "o801lX2ol5Lv"
      },
      "execution_count": 1,
      "outputs": []
    },
    {
      "cell_type": "markdown",
      "source": [
        "# **Formatting Data**"
      ],
      "metadata": {
        "id": "mnlOvsR6l_ov"
      }
    },
    {
      "cell_type": "code",
      "execution_count": 2,
      "metadata": {
        "id": "jUh82lnalf2i"
      },
      "outputs": [],
      "source": [
        "bud_data = {\n",
        "    \"Plant\": [\"Plant \" + str(i) for i in range(1, 10) for _ in range(6)],\n",
        "    \"Treatment\": (\n",
        "        [\"Control\"] * 18 +                # First 3 plants are Control\n",
        "        [\"Treatment Two\"] * 18 +          # Next 3 plants are Treatment Two\n",
        "        [\"Treatment One\"] * 18            # Last 3 plants are Treatment One\n",
        "    ),\n",
        "    \"Week\": [1, 2, 3, 4, 5, 6] * 9,       # Repeating 6 weeks for each plant\n",
        "    \"Buds\": [\n",
        "        0, 3, 3, 10, 14, 14,\n",
        "        0, 7, 10, 21, 30, 24,\n",
        "        0, 3, 8, 10, 19, 19,\n",
        "        0, 6, 11, 22, 27, 30,\n",
        "        0, 6, 3, 0, 4, 6,\n",
        "        0, 5, 7, 11, 17, 22,\n",
        "        0, 5, 13, 27, 32, 52,\n",
        "        0, 9, 4, 17, 35, 38,\n",
        "        0, 4, 7, 16, 24, 27\n",
        "    ]\n",
        "}\n",
        "\n",
        "bud_df = pd.DataFrame(bud_data)"
      ]
    },
    {
      "cell_type": "markdown",
      "source": [
        "# **Model**"
      ],
      "metadata": {
        "id": "iOPIs_POmEgp"
      }
    },
    {
      "cell_type": "code",
      "source": [
        "bud_model = mixedlm(\"Buds ~ Treatment + Week\", bud_df, groups=\"Plant\") # model creation and fit\n",
        "bud_result = bud_model.fit()\n",
        "\n",
        "print(bud_result.summary())"
      ],
      "metadata": {
        "colab": {
          "base_uri": "https://localhost:8080/"
        },
        "id": "pqVmnLTGmH_0",
        "outputId": "d1f6d695-0eb3-4069-dbfd-4190935efdf4"
      },
      "execution_count": 3,
      "outputs": [
        {
          "output_type": "stream",
          "name": "stdout",
          "text": [
            "                Mixed Linear Model Regression Results\n",
            "======================================================================\n",
            "Model:                 MixedLM      Dependent Variable:      Buds     \n",
            "No. Observations:      54           Method:                  REML     \n",
            "No. Groups:            9            Scale:                   34.0571  \n",
            "Min. group size:       6            Log-Likelihood:          -170.5076\n",
            "Max. group size:       6            Converged:               Yes      \n",
            "Mean group size:       6.0                                            \n",
            "----------------------------------------------------------------------\n",
            "                           Coef.  Std.Err.   z    P>|z|  [0.025 0.975]\n",
            "----------------------------------------------------------------------\n",
            "Intercept                  -7.944    3.334 -2.383 0.017 -14.478 -1.411\n",
            "Treatment[T.Treatment One]  6.389    4.114  1.553 0.120  -1.675 14.453\n",
            "Treatment[T.Treatment Two] -1.000    4.114 -0.243 0.808  -9.064  7.064\n",
            "Week                        5.365    0.465 11.538 0.000   4.454  6.276\n",
            "Plant Var                  19.715    2.678                            \n",
            "======================================================================\n",
            "\n"
          ]
        }
      ]
    }
  ]
}
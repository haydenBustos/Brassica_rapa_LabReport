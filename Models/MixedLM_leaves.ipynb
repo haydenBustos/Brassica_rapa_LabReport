{
  "nbformat": 4,
  "nbformat_minor": 0,
  "metadata": {
    "colab": {
      "provenance": []
    },
    "kernelspec": {
      "name": "python3",
      "display_name": "Python 3"
    },
    "language_info": {
      "name": "python"
    }
  },
  "cells": [
    {
      "cell_type": "code",
      "execution_count": 1,
      "metadata": {
        "id": "_x6yUnE5mnKj"
      },
      "outputs": [],
      "source": [
        "import pandas as pd\n",
        "import statsmodels.api as sm\n",
        "from statsmodels.formula.api import mixedlm"
      ]
    },
    {
      "cell_type": "markdown",
      "source": [
        "# **Data**"
      ],
      "metadata": {
        "id": "UE2Mg5INmsey"
      }
    },
    {
      "cell_type": "code",
      "source": [
        "leaf_data = {\n",
        "    \"Plant\": [\"Plant \" + str(i) for i in range(1, 10) for _ in range(6)],\n",
        "    \"Treatment\": (\n",
        "        [\"Control\"] * 18 +                # First 3 plants are Control\n",
        "        [\"Treatment Two\"] * 18 +          # Next 3 plants are Treatment Two\n",
        "        [\"Treatment One\"] * 18            # Last 3 plants are Treatment One\n",
        "    ),\n",
        "    \"Week\": [1, 2, 3, 4, 5, 6] * 9,       # Repeating 6 weeks for each plant\n",
        "    \"Leaves\": [\n",
        "        5, 8, 8, 9, 10, 10,\n",
        "        4, 7, 7, 9, 9, 7,\n",
        "        4, 6, 7, 7, 8, 8,\n",
        "        4, 6, 6, 6, 7, 4,\n",
        "        4, 6, 5, 4, 4, 6,\n",
        "        4, 5, 5, 8, 8, 8,\n",
        "        4, 5, 5, 5, 10, 10,\n",
        "        4, 5, 5, 7, 10, 8,\n",
        "        4, 6, 8, 12, 12, 9\n",
        "    ]\n",
        "}\n",
        "\n",
        "leaf_df = pd.DataFrame(leaf_data)"
      ],
      "metadata": {
        "id": "9LjiElODmvLC"
      },
      "execution_count": 2,
      "outputs": []
    },
    {
      "cell_type": "markdown",
      "source": [
        "# **Model Results**"
      ],
      "metadata": {
        "id": "FyHGb_KEnwK7"
      }
    },
    {
      "cell_type": "code",
      "source": [
        "leaf_model = mixedlm(\"Leaves ~ Treatment + Week\", leaf_df, groups=\"Plant\") # model and fitting\n",
        "leaf_result = leaf_model.fit()\n",
        "\n",
        "print(leaf_result.summary())"
      ],
      "metadata": {
        "colab": {
          "base_uri": "https://localhost:8080/"
        },
        "id": "vqXZZsnpnkKi",
        "outputId": "c36a9a9b-ccee-48b9-c516-0da9f92d98de"
      },
      "execution_count": 3,
      "outputs": [
        {
          "output_type": "stream",
          "name": "stdout",
          "text": [
            "                Mixed Linear Model Regression Results\n",
            "=====================================================================\n",
            "Model:                 MixedLM      Dependent Variable:      Leaves  \n",
            "No. Observations:      54           Method:                  REML    \n",
            "No. Groups:            9            Scale:                   2.0919  \n",
            "Min. group size:       6            Log-Likelihood:          -99.0292\n",
            "Max. group size:       6            Converged:               Yes     \n",
            "Mean group size:       6.0                                           \n",
            "---------------------------------------------------------------------\n",
            "                           Coef.  Std.Err.   z    P>|z| [0.025 0.975]\n",
            "---------------------------------------------------------------------\n",
            "Intercept                   4.633    0.674  6.870 0.000  3.311  5.955\n",
            "Treatment[T.Treatment One] -0.222    0.764 -0.291 0.771 -1.720  1.276\n",
            "Treatment[T.Treatment Two] -1.833    0.764 -2.398 0.016 -3.332 -0.335\n",
            "Week                        0.787    0.115  6.831 0.000  0.561  1.013\n",
            "Plant Var                   0.528    0.373                           \n",
            "=====================================================================\n",
            "\n"
          ]
        }
      ]
    }
  ]
}